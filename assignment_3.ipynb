{
  "nbformat": 4,
  "nbformat_minor": 0,
  "metadata": {
    "colab": {
      "name": "assignment 3.ipynb",
      "provenance": []
    },
    "kernelspec": {
      "name": "python3",
      "display_name": "Python 3"
    },
    "language_info": {
      "name": "python"
    }
  },
  "cells": [
    {
      "cell_type": "code",
      "metadata": {
        "id": "y1sZ7A0O2IBI",
        "colab": {
          "base_uri": "https://localhost:8080/"
        },
        "outputId": "82c20ebd-aa50-4048-8769-88f069cebdcb"
      },
      "source": [
        "#Assignment 3 - Check whether string is a pangram\n",
        "\n",
        "import string as str\n",
        "  \n",
        "alphabet = set(str.ascii_lowercase)\n",
        "  \n",
        "def ispangram(str):\n",
        "    return set(str.lower()) >= alphabet\n",
        "      \n",
        "\n",
        "str = \"The quick brown fox jumps over the lazy dog\"\n",
        "if(ispangram(str) == True):\n",
        "    print(\"Yes\")\n",
        "else:\n",
        "    print(\"No\")"
      ],
      "execution_count": 1,
      "outputs": [
        {
          "output_type": "stream",
          "text": [
            "Yes\n"
          ],
          "name": "stdout"
        }
      ]
    },
    {
      "cell_type": "code",
      "metadata": {
        "id": "ngISlBQ2c57u"
      },
      "source": [
        ""
      ],
      "execution_count": null,
      "outputs": []
    }
  ]
}